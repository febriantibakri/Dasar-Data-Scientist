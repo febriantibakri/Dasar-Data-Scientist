{
 "cells": [
  {
   "cell_type": "code",
   "execution_count": 6,
   "id": "63225007",
   "metadata": {},
   "outputs": [],
   "source": [
    "# 1. np.arange(), np.reshape()\n",
    "# 2. np.random.randint(), np.reshape()\n",
    "# 3. np.zeros / np.ones\n",
    "# 4. pd.Series()\n",
    "# 5. np.random.randint(), pd.Series(), df.head(), df.value_counts()\n",
    "# 6. df.head(), df.describe(), df.isna()\n",
    "# 7. df[df['nama_kolom'].isna()]\n",
    "# 8. df.groupby('nama_kolom')['namakolom'].mean()\n",
    "# 9. df.apply()\n",
    "# 10. df.groupby('nama_kolom')['namakolom'].agg(function)\n"
   ]
  },
  {
   "cell_type": "code",
   "execution_count": 2,
   "id": "bcdc1512",
   "metadata": {},
   "outputs": [],
   "source": [
    "import pandas as pd\n",
    "import numpy as np"
   ]
  },
  {
   "cell_type": "code",
   "execution_count": 8,
   "id": "f5ff9b4e",
   "metadata": {},
   "outputs": [
    {
     "name": "stdout",
     "output_type": "stream",
     "text": [
      "mulai: 1\n",
      "selesai: 3\n"
     ]
    }
   ],
   "source": [
    "mulai = input('mulai: ')\n",
    "selesai = input('selesai: ')"
   ]
  },
  {
   "cell_type": "code",
   "execution_count": 9,
   "id": "65aa0339",
   "metadata": {},
   "outputs": [
    {
     "data": {
      "text/plain": [
       "array([1, 2])"
      ]
     },
     "execution_count": 9,
     "metadata": {},
     "output_type": "execute_result"
    }
   ],
   "source": [
    "# 1 Dimensi\n",
    "dimensi_1 = np.arange(int(mulai),int(selesai))\n",
    "dimensi_1"
   ]
  },
  {
   "cell_type": "code",
   "execution_count": 13,
   "id": "7e8ff5a4",
   "metadata": {},
   "outputs": [
    {
     "ename": "ValueError",
     "evalue": "cannot reshape array of size 2 into shape (3,9)",
     "output_type": "error",
     "traceback": [
      "\u001b[1;31m---------------------------------------------------------------------------\u001b[0m",
      "\u001b[1;31mValueError\u001b[0m                                Traceback (most recent call last)",
      "Cell \u001b[1;32mIn [13], line 1\u001b[0m\n\u001b[1;32m----> 1\u001b[0m dimensi_2 \u001b[38;5;241m=\u001b[39m \u001b[43mdimensi_1\u001b[49m\u001b[38;5;241;43m.\u001b[39;49m\u001b[43mreshape\u001b[49m\u001b[43m(\u001b[49m\u001b[38;5;241;43m3\u001b[39;49m\u001b[43m,\u001b[49m\u001b[38;5;241;43m9\u001b[39;49m\u001b[43m)\u001b[49m\n\u001b[0;32m      2\u001b[0m dimensi_2\n",
      "\u001b[1;31mValueError\u001b[0m: cannot reshape array of size 2 into shape (3,9)"
     ]
    }
   ],
   "source": [
    "dimensi_2 = dimensi_1.reshape(3,9)\n",
    "dimensi_2"
   ]
  },
  {
   "cell_type": "code",
   "execution_count": null,
   "id": "3d7b49a8",
   "metadata": {},
   "outputs": [],
   "source": [
    "dimensi_3 = dimensi_1.reshape(3,3,3)\n",
    "dimensi_3"
   ]
  },
  {
   "cell_type": "markdown",
   "id": "e64ef166",
   "metadata": {},
   "source": [
    "# No 2"
   ]
  },
  {
   "cell_type": "code",
   "execution_count": null,
   "id": "4ea96306",
   "metadata": {},
   "outputs": [],
   "source": [
    "Banyak_data = input('Banyak Data: ')\n",
    "mulai = input('mulai: ')\n",
    "selesai = input('selesai: ')"
   ]
  },
  {
   "cell_type": "code",
   "execution_count": null,
   "id": "407e98e9",
   "metadata": {},
   "outputs": [],
   "source": [
    "D1 = np.random.randint(int(mulai), int(selesai), int(Banyak_data))\n",
    "D1"
   ]
  },
  {
   "cell_type": "code",
   "execution_count": null,
   "id": "a5ffb5cd",
   "metadata": {},
   "outputs": [],
   "source": [
    "D2 = D1.reshape(4,4)\n",
    "D2"
   ]
  },
  {
   "cell_type": "code",
   "execution_count": null,
   "id": "66b2672f",
   "metadata": {},
   "outputs": [],
   "source": [
    "D3 = D1.reshape(4,4).T\n",
    "D3"
   ]
  },
  {
   "cell_type": "markdown",
   "id": "1d2623a7",
   "metadata": {},
   "source": [
    "# No 3"
   ]
  },
  {
   "cell_type": "code",
   "execution_count": 4,
   "id": "30613aaa",
   "metadata": {},
   "outputs": [],
   "source": [
    "mp = np.zeros((10,10))\n",
    "# mp[0] = 4\n",
    "# mp[:,0] = 4\n",
    "# mp[:,9] = 4\n",
    "# mp[9] = 4\n",
    "# mp"
   ]
  },
  {
   "cell_type": "markdown",
   "id": "855ccc12",
   "metadata": {},
   "source": [
    "# No 4"
   ]
  },
  {
   "cell_type": "code",
   "execution_count": null,
   "id": "08617a8a",
   "metadata": {},
   "outputs": [],
   "source": [
    "labels = ['a','b','c','d','e','f','g','h','i','j','k',\n",
    "          'l','m','n','o','p','q','r','s','t','u','v','w','x','y','z']\n",
    "my_list = [1,2,3,4,5,6,7,8,9,10,11,12,13,14,15,16,17,18,19,20,21,22,23,24,25,26]\n",
    "\n",
    "pd.Series(data=my_list,index=labels)"
   ]
  },
  {
   "cell_type": "code",
   "execution_count": 14,
   "id": "e40707c5",
   "metadata": {},
   "outputs": [
    {
     "data": {
      "text/plain": [
       "0     4\n",
       "1     3\n",
       "2     3\n",
       "3     1\n",
       "4     3\n",
       "     ..\n",
       "95    2\n",
       "96    1\n",
       "97    1\n",
       "98    4\n",
       "99    1\n",
       "Length: 100, dtype: int32"
      ]
     },
     "execution_count": 14,
     "metadata": {},
     "output_type": "execute_result"
    }
   ],
   "source": [
    "mp = np.random.randint(1,5,100)\n",
    "pd.Series(data=mp)"
   ]
  },
  {
   "cell_type": "code",
   "execution_count": 15,
   "id": "f44d0b5f",
   "metadata": {},
   "outputs": [
    {
     "ename": "AttributeError",
     "evalue": "'numpy.ndarray' object has no attribute 'head'",
     "output_type": "error",
     "traceback": [
      "\u001b[1;31m---------------------------------------------------------------------------\u001b[0m",
      "\u001b[1;31mAttributeError\u001b[0m                            Traceback (most recent call last)",
      "Cell \u001b[1;32mIn [15], line 1\u001b[0m\n\u001b[1;32m----> 1\u001b[0m \u001b[43mmp\u001b[49m\u001b[38;5;241;43m.\u001b[39;49m\u001b[43mhead\u001b[49m()\n",
      "\u001b[1;31mAttributeError\u001b[0m: 'numpy.ndarray' object has no attribute 'head'"
     ]
    }
   ],
   "source": [
    "mp.head()"
   ]
  },
  {
   "cell_type": "code",
   "execution_count": null,
   "id": "13ce9559",
   "metadata": {},
   "outputs": [],
   "source": []
  }
 ],
 "metadata": {
  "kernelspec": {
   "display_name": "Python 3 (ipykernel)",
   "language": "python",
   "name": "python3"
  },
  "language_info": {
   "codemirror_mode": {
    "name": "ipython",
    "version": 3
   },
   "file_extension": ".py",
   "mimetype": "text/x-python",
   "name": "python",
   "nbconvert_exporter": "python",
   "pygments_lexer": "ipython3",
   "version": "3.10.2"
  }
 },
 "nbformat": 4,
 "nbformat_minor": 5
}
